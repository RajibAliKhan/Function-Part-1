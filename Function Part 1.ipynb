{
 "cells": [
  {
   "cell_type": "code",
   "execution_count": 1,
   "id": "0c85e9b9-d720-4a91-af1b-e6ddae4724b7",
   "metadata": {},
   "outputs": [
    {
     "name": "stdout",
     "output_type": "stream",
     "text": [
      "My name is Rajib Ali Khan\n"
     ]
    }
   ],
   "source": [
    "print('My name is Rajib Ali Khan')"
   ]
  },
  {
   "cell_type": "code",
   "execution_count": 21,
   "id": "922cbedc-c5b1-49da-ba05-eef68deca694",
   "metadata": {},
   "outputs": [
    {
     "name": "stdout",
     "output_type": "stream",
     "text": [
      "rajib ali khan\n"
     ]
    }
   ],
   "source": [
    "def test1() :\n",
    "    print('rajib ali khan')\n",
    "test1()"
   ]
  },
  {
   "cell_type": "code",
   "execution_count": 23,
   "id": "38d75f30-3de3-470b-a793-1e9b2c44277d",
   "metadata": {},
   "outputs": [
    {
     "data": {
      "text/plain": [
       "'i m from contaialso from west bengal'"
      ]
     },
     "execution_count": 23,
     "metadata": {},
     "output_type": "execute_result"
    }
   ],
   "source": [
    "def test1() :\n",
    "    return 'i m from contai'\n",
    "test1() + 'also from west bengal'"
   ]
  },
  {
   "cell_type": "code",
   "execution_count": 28,
   "id": "220a5a7c-1b35-4ce7-b8cd-4114c6a74c53",
   "metadata": {},
   "outputs": [
    {
     "data": {
      "text/plain": [
       "('rajib', [2, 3, 4, 5, 6], 23.56, {'n': 'rajib'})"
      ]
     },
     "execution_count": 28,
     "metadata": {},
     "output_type": "execute_result"
    }
   ],
   "source": [
    "def test2() :\n",
    "    return 'rajib',[2,3,4,5,6], 23.56, {'n' : 'rajib'}\n",
    "test2()"
   ]
  },
  {
   "cell_type": "code",
   "execution_count": 32,
   "id": "c2e84629-81db-4e0c-bb53-a36d94f4153a",
   "metadata": {},
   "outputs": [
    {
     "data": {
      "text/plain": [
       "'rajib'"
      ]
     },
     "execution_count": 32,
     "metadata": {},
     "output_type": "execute_result"
    }
   ],
   "source": [
    "a,b,c,d = test2()\n",
    "a"
   ]
  },
  {
   "cell_type": "code",
   "execution_count": 33,
   "id": "32df1f55-b5b6-4902-832d-5d53b175d5f9",
   "metadata": {},
   "outputs": [
    {
     "data": {
      "text/plain": [
       "[2, 3, 4, 5, 6]"
      ]
     },
     "execution_count": 33,
     "metadata": {},
     "output_type": "execute_result"
    }
   ],
   "source": [
    "b"
   ]
  },
  {
   "cell_type": "code",
   "execution_count": 34,
   "id": "55fe2edb-66b0-4eea-84d4-1ccc9fa7aaa3",
   "metadata": {},
   "outputs": [
    {
     "data": {
      "text/plain": [
       "23.56"
      ]
     },
     "execution_count": 34,
     "metadata": {},
     "output_type": "execute_result"
    }
   ],
   "source": [
    "c"
   ]
  },
  {
   "cell_type": "code",
   "execution_count": 35,
   "id": "36a1e4ae-dcb9-42bd-a62a-f1aed8a93b30",
   "metadata": {},
   "outputs": [
    {
     "data": {
      "text/plain": [
       "{'n': 'rajib'}"
      ]
     },
     "execution_count": 35,
     "metadata": {},
     "output_type": "execute_result"
    }
   ],
   "source": [
    "d"
   ]
  },
  {
   "cell_type": "code",
   "execution_count": 36,
   "id": "1ee0c10b-d684-4394-91ee-8891c5b09a6f",
   "metadata": {},
   "outputs": [
    {
     "data": {
      "text/plain": [
       "dict"
      ]
     },
     "execution_count": 36,
     "metadata": {},
     "output_type": "execute_result"
    }
   ],
   "source": [
    "type(d)"
   ]
  },
  {
   "cell_type": "code",
   "execution_count": 42,
   "id": "917eb22b-4473-4e7e-959b-ca5e4cf66f14",
   "metadata": {},
   "outputs": [
    {
     "data": {
      "text/plain": [
       "5.857142857142857"
      ]
     },
     "execution_count": 42,
     "metadata": {},
     "output_type": "execute_result"
    }
   ],
   "source": [
    "def test3() :\n",
    "    a = 5 + 6 / 7\n",
    "    return a\n",
    "test3()"
   ]
  },
  {
   "cell_type": "code",
   "execution_count": 1,
   "id": "0dc1e80c-6591-4746-baa8-dd0adccde1f6",
   "metadata": {},
   "outputs": [],
   "source": [
    "def test5(a,b,c) :\n",
    "    d = a + b / c\n",
    "    return d"
   ]
  },
  {
   "cell_type": "code",
   "execution_count": 2,
   "id": "b73f6fce-0342-4be4-baeb-7dd0160a2b84",
   "metadata": {},
   "outputs": [
    {
     "ename": "TypeError",
     "evalue": "test5() missing 3 required positional arguments: 'a', 'b', and 'c'",
     "output_type": "error",
     "traceback": [
      "\u001b[0;31m---------------------------------------------------------------------------\u001b[0m",
      "\u001b[0;31mTypeError\u001b[0m                                 Traceback (most recent call last)",
      "Cell \u001b[0;32mIn[2], line 1\u001b[0m\n\u001b[0;32m----> 1\u001b[0m \u001b[43mtest5\u001b[49m\u001b[43m(\u001b[49m\u001b[43m)\u001b[49m\n",
      "\u001b[0;31mTypeError\u001b[0m: test5() missing 3 required positional arguments: 'a', 'b', and 'c'"
     ]
    }
   ],
   "source": [
    "test5()"
   ]
  },
  {
   "cell_type": "code",
   "execution_count": 3,
   "id": "42b7c6b6-ecad-4223-aeb6-29dee423aaae",
   "metadata": {},
   "outputs": [
    {
     "data": {
      "text/plain": [
       "2.75"
      ]
     },
     "execution_count": 3,
     "metadata": {},
     "output_type": "execute_result"
    }
   ],
   "source": [
    "test5(2,3,4)"
   ]
  },
  {
   "cell_type": "code",
   "execution_count": 4,
   "id": "8be1e668-6fd0-47b8-b1e0-a71507234aaa",
   "metadata": {},
   "outputs": [
    {
     "data": {
      "text/plain": [
       "2.75"
      ]
     },
     "execution_count": 4,
     "metadata": {},
     "output_type": "execute_result"
    }
   ],
   "source": [
    "2+3/4"
   ]
  },
  {
   "cell_type": "code",
   "execution_count": 10,
   "id": "182fbcea-efc9-4766-afcd-36cc252bb46a",
   "metadata": {},
   "outputs": [],
   "source": [
    "def test6(a,b) :\n",
    "    return a + b"
   ]
  },
  {
   "cell_type": "code",
   "execution_count": 9,
   "id": "d64b6849-bf1f-4c7a-a58a-bc5576830890",
   "metadata": {},
   "outputs": [
    {
     "data": {
      "text/plain": [
       "7"
      ]
     },
     "execution_count": 9,
     "metadata": {},
     "output_type": "execute_result"
    }
   ],
   "source": [
    "test6(3,4)"
   ]
  },
  {
   "cell_type": "code",
   "execution_count": 11,
   "id": "c598e376-80f9-4cdc-a8d7-88d11173ba57",
   "metadata": {},
   "outputs": [
    {
     "data": {
      "text/plain": [
       "'rajibkhan'"
      ]
     },
     "execution_count": 11,
     "metadata": {},
     "output_type": "execute_result"
    }
   ],
   "source": [
    "test6('rajib','khan')"
   ]
  },
  {
   "cell_type": "code",
   "execution_count": 12,
   "id": "373caa9e-116b-4363-a670-8784155736e0",
   "metadata": {},
   "outputs": [
    {
     "data": {
      "text/plain": [
       "[4, 3, 2, 5, 4, 2]"
      ]
     },
     "execution_count": 12,
     "metadata": {},
     "output_type": "execute_result"
    }
   ],
   "source": [
    "test6([4,3,2],[5,4,2])"
   ]
  },
  {
   "cell_type": "code",
   "execution_count": 13,
   "id": "29f0d160-46fb-44df-953c-7d03e9f29fbb",
   "metadata": {},
   "outputs": [],
   "source": [
    "l = [1,2,3,4,'rajib','khan',[4,56,78]]"
   ]
  },
  {
   "cell_type": "code",
   "execution_count": 13,
   "id": "e88155a8-f9f7-4883-bc00-cc1cf7a9b874",
   "metadata": {},
   "outputs": [
    {
     "data": {
      "text/plain": [
       "[2, 1, 3, 4, 5, ['rajib', 'khan']]"
      ]
     },
     "execution_count": 13,
     "metadata": {},
     "output_type": "execute_result"
    }
   ],
   "source": [
    "l"
   ]
  },
  {
   "cell_type": "code",
   "execution_count": 12,
   "id": "47e64176-5d6c-4dfe-883a-b01bf138eec0",
   "metadata": {},
   "outputs": [
    {
     "data": {
      "text/plain": [
       "[2, 1, 3, 4, 5]"
      ]
     },
     "execution_count": 12,
     "metadata": {},
     "output_type": "execute_result"
    }
   ],
   "source": [
    "# remove all integer from l and make a new list\n",
    "\n",
    "l1 = []\n",
    "for i in l :\n",
    "    if type(i) == int or type(i) == float :\n",
    "        l1.append(i)\n",
    "l1"
   ]
  },
  {
   "cell_type": "code",
   "execution_count": 8,
   "id": "8141ce09-fd9a-4924-b1cf-dd17460e1059",
   "metadata": {},
   "outputs": [
    {
     "data": {
      "text/plain": [
       "[2, 1, 3, 4, 5]"
      ]
     },
     "execution_count": 8,
     "metadata": {},
     "output_type": "execute_result"
    }
   ],
   "source": [
    "# now using function\n",
    "\n",
    "def test7(l) :\n",
    "    l1 = []\n",
    "    for i in l :\n",
    "        if type(i) == int or type(i) == float :\n",
    "            l1.append(i)\n",
    "    return l1\n",
    "test7(l)"
   ]
  },
  {
   "cell_type": "code",
   "execution_count": 18,
   "id": "5aa5e7b6-03e5-4d4a-bcbb-e5256846d82d",
   "metadata": {},
   "outputs": [
    {
     "data": {
      "text/plain": [
       "[1, 2, 3, 4, 5, 6]"
      ]
     },
     "execution_count": 18,
     "metadata": {},
     "output_type": "execute_result"
    }
   ],
   "source": [
    "l = [1,2,3,4,5,6,'rajib','khan', [1,4,3,2]]\n",
    "l1 = []\n",
    "for i in l :\n",
    "    if type(i) == int or type(i) == float :\n",
    "        l1.append(i)\n",
    "l1"
   ]
  },
  {
   "cell_type": "code",
   "execution_count": 21,
   "id": "bebb1bf0-29cc-4865-8ecf-482ea5e798f3",
   "metadata": {},
   "outputs": [
    {
     "data": {
      "text/plain": [
       "[1, 2, 3, 4, 5, 6]"
      ]
     },
     "execution_count": 21,
     "metadata": {},
     "output_type": "execute_result"
    }
   ],
   "source": [
    "def test8(l) :\n",
    "    l1 = []\n",
    "    for i in l :\n",
    "        if type(i) == int or type(i) == float :\n",
    "            l1.append(i)\n",
    "    return l1\n",
    "test8(l)"
   ]
  },
  {
   "cell_type": "code",
   "execution_count": 22,
   "id": "de295225-04b0-4ab9-aa55-75a1ac5ff63e",
   "metadata": {},
   "outputs": [
    {
     "data": {
      "text/plain": [
       "[1, 2, 6, 7]"
      ]
     },
     "execution_count": 22,
     "metadata": {},
     "output_type": "execute_result"
    }
   ],
   "source": [
    "l2 = [1,2,6,7,[4,5,2]]\n",
    "test8(l2)"
   ]
  },
  {
   "cell_type": "code",
   "execution_count": 53,
   "id": "a0efd145-37fa-43c6-95b1-cba2bf474389",
   "metadata": {},
   "outputs": [],
   "source": [
    "l = [1,2,3,44,'rajib','khan',[1,5,6,7]]"
   ]
  },
  {
   "cell_type": "code",
   "execution_count": 54,
   "id": "b1e225aa-be0f-4dd0-a181-3ac4f9b1e050",
   "metadata": {},
   "outputs": [
    {
     "data": {
      "text/plain": [
       "[1, 2, 3, 44, 'rajib', 'khan', [1, 5, 6, 7]]"
      ]
     },
     "execution_count": 54,
     "metadata": {},
     "output_type": "execute_result"
    }
   ],
   "source": [
    "l"
   ]
  },
  {
   "cell_type": "code",
   "execution_count": 62,
   "id": "acc013f5-ee01-47d5-a59a-0419d2e6b77b",
   "metadata": {},
   "outputs": [
    {
     "data": {
      "text/plain": [
       "[1, 2, 3, 44, 1, 5, 6, 7]"
      ]
     },
     "execution_count": 62,
     "metadata": {},
     "output_type": "execute_result"
    }
   ],
   "source": [
    "# in this case, i remove the list as well as int :\n",
    "\n",
    "\n",
    "def test9(a) :\n",
    "    l = []\n",
    "    for i in a :\n",
    "        if type(i) == list :\n",
    "            for j in i :\n",
    "                l.append(j)\n",
    "        else :\n",
    "            if type(i) == int or type(i) == float :\n",
    "                l.append(i)\n",
    "    return l\n",
    "test9(l)"
   ]
  },
  {
   "cell_type": "code",
   "execution_count": 63,
   "id": "21a2ce84-ac8d-4f47-bde9-cc7fa19919eb",
   "metadata": {},
   "outputs": [
    {
     "data": {
      "text/plain": [
       "[1, 2, 3, 44, 1, 5, 6, 7]"
      ]
     },
     "execution_count": 63,
     "metadata": {},
     "output_type": "execute_result"
    }
   ],
   "source": [
    "# this \"\"\"\"\"\" is used for docstring for any function :\n",
    "\n",
    "def test9(a) :\n",
    "    \"\"\"this is my function to extract num data from list\"\"\"\n",
    "    l = []\n",
    "    for i in a :\n",
    "        if type(i) == list :\n",
    "            for j in i :\n",
    "                l.append(j)\n",
    "        else :\n",
    "            if type(i) == int or type(i) == float :\n",
    "                l.append(i)\n",
    "    return l\n",
    "test9(l)"
   ]
  },
  {
   "cell_type": "code",
   "execution_count": null,
   "id": "ed0a3ade-faac-4551-a77d-2296fe0121e0",
   "metadata": {},
   "outputs": [],
   "source": [
    "test9()"
   ]
  },
  {
   "cell_type": "code",
   "execution_count": 86,
   "id": "7ce7f684-385e-4115-a9a8-e7e531190938",
   "metadata": {},
   "outputs": [],
   "source": [
    "def test10(a,b) :\n",
    "    return a + b"
   ]
  },
  {
   "cell_type": "code",
   "execution_count": 66,
   "id": "7c7c145f-9d8f-40d5-b443-c0b0aae56fe7",
   "metadata": {},
   "outputs": [
    {
     "data": {
      "text/plain": [
       "()"
      ]
     },
     "execution_count": 66,
     "metadata": {},
     "output_type": "execute_result"
    }
   ],
   "source": [
    "def test11(*args) :\n",
    "    return args\n",
    "test11()\n",
    "\n",
    "# *args means it can pass n number of arguments\n",
    "# all arguments should in tuple format\n",
    "# *args in not a parmanent key word, can also use another key word like def test11(*rajib)\n"
   ]
  },
  {
   "cell_type": "code",
   "execution_count": 68,
   "id": "75851010-16cb-417e-b3a7-6f976749cdea",
   "metadata": {},
   "outputs": [
    {
     "data": {
      "text/plain": [
       "tuple"
      ]
     },
     "execution_count": 68,
     "metadata": {},
     "output_type": "execute_result"
    }
   ],
   "source": [
    "type(test11())"
   ]
  },
  {
   "cell_type": "code",
   "execution_count": 70,
   "id": "2b9f3e1f-f3c2-4111-bc37-60e4e3e65faf",
   "metadata": {},
   "outputs": [
    {
     "data": {
      "text/plain": [
       "(1, 2, 3)"
      ]
     },
     "execution_count": 70,
     "metadata": {},
     "output_type": "execute_result"
    }
   ],
   "source": [
    "test11(1,2,3)"
   ]
  },
  {
   "cell_type": "code",
   "execution_count": 71,
   "id": "8f5b1d83-e476-449f-afc9-cde86e5b2002",
   "metadata": {},
   "outputs": [
    {
     "data": {
      "text/plain": [
       "(1, 2, 3, 44, 'rajib', 'khan', [1, 5, 6, 7])"
      ]
     },
     "execution_count": 71,
     "metadata": {},
     "output_type": "execute_result"
    }
   ],
   "source": [
    "test11(1,2,3,44,'rajib','khan',[1,5,6,7])"
   ]
  },
  {
   "cell_type": "code",
   "execution_count": 74,
   "id": "b03ab606-cc0d-4394-80fb-66bb4a436e97",
   "metadata": {},
   "outputs": [],
   "source": [
    "def test12(*rajib) :\n",
    "    return rajib"
   ]
  },
  {
   "cell_type": "code",
   "execution_count": 75,
   "id": "972cbd0b-1137-4ce1-be39-8db476df5a82",
   "metadata": {},
   "outputs": [],
   "source": [
    "def test13(*args, a) :\n",
    "    return args, a"
   ]
  },
  {
   "cell_type": "code",
   "execution_count": 76,
   "id": "8b68f620-452a-4af4-b96e-beadb6621da8",
   "metadata": {},
   "outputs": [
    {
     "ename": "TypeError",
     "evalue": "test13() missing 1 required keyword-only argument: 'a'",
     "output_type": "error",
     "traceback": [
      "\u001b[0;31m---------------------------------------------------------------------------\u001b[0m",
      "\u001b[0;31mTypeError\u001b[0m                                 Traceback (most recent call last)",
      "Cell \u001b[0;32mIn[76], line 1\u001b[0m\n\u001b[0;32m----> 1\u001b[0m \u001b[43mtest13\u001b[49m\u001b[43m(\u001b[49m\u001b[38;5;241;43m1\u001b[39;49m\u001b[43m,\u001b[49m\u001b[38;5;241;43m2\u001b[39;49m\u001b[43m,\u001b[49m\u001b[38;5;241;43m3\u001b[39;49m\u001b[43m,\u001b[49m\u001b[38;5;241;43m4\u001b[39;49m\u001b[43m)\u001b[49m\n",
      "\u001b[0;31mTypeError\u001b[0m: test13() missing 1 required keyword-only argument: 'a'"
     ]
    }
   ],
   "source": [
    "test13(1,2,3,4)"
   ]
  },
  {
   "cell_type": "code",
   "execution_count": null,
   "id": "e266362f-f4ce-4138-8990-08e15176f553",
   "metadata": {},
   "outputs": [],
   "source": [
    "#  this happen bcz. it's a confusion that what is the value of args or a"
   ]
  },
  {
   "cell_type": "code",
   "execution_count": 77,
   "id": "6e662e32-3fbe-420b-97c6-41cab5f9f582",
   "metadata": {},
   "outputs": [
    {
     "data": {
      "text/plain": [
       "((1, 2, 3, 4), 23)"
      ]
     },
     "execution_count": 77,
     "metadata": {},
     "output_type": "execute_result"
    }
   ],
   "source": [
    "test13(1,2,3,4, a = 23)"
   ]
  },
  {
   "cell_type": "code",
   "execution_count": 78,
   "id": "eaf106e9-12e5-4ccc-9eff-b3f4a9bcf27b",
   "metadata": {},
   "outputs": [
    {
     "ename": "TypeError",
     "evalue": "test14() missing 2 required positional arguments: 'c' and 'd'",
     "output_type": "error",
     "traceback": [
      "\u001b[0;31m---------------------------------------------------------------------------\u001b[0m",
      "\u001b[0;31mTypeError\u001b[0m                                 Traceback (most recent call last)",
      "Cell \u001b[0;32mIn[78], line 3\u001b[0m\n\u001b[1;32m      1\u001b[0m \u001b[38;5;28;01mdef\u001b[39;00m \u001b[38;5;21mtest14\u001b[39m(c,d,a \u001b[38;5;241m=\u001b[39m \u001b[38;5;241m23\u001b[39m,b \u001b[38;5;241m=\u001b[39m \u001b[38;5;241m1\u001b[39m) :\n\u001b[1;32m      2\u001b[0m     \u001b[38;5;28;01mreturn\u001b[39;00m a,b,c,d\n\u001b[0;32m----> 3\u001b[0m \u001b[43mtest14\u001b[49m\u001b[43m(\u001b[49m\u001b[43m)\u001b[49m\n",
      "\u001b[0;31mTypeError\u001b[0m: test14() missing 2 required positional arguments: 'c' and 'd'"
     ]
    }
   ],
   "source": [
    "def test14(c,d,a = 23,b = 1) :\n",
    "    return a,b,c,d\n",
    "test14()"
   ]
  },
  {
   "cell_type": "code",
   "execution_count": 79,
   "id": "edd8bfcf-757d-4185-9477-630c0affca15",
   "metadata": {},
   "outputs": [
    {
     "data": {
      "text/plain": [
       "(23, 1, 3, 4)"
      ]
     },
     "execution_count": 79,
     "metadata": {},
     "output_type": "execute_result"
    }
   ],
   "source": [
    "test14(3,4)"
   ]
  },
  {
   "cell_type": "code",
   "execution_count": 80,
   "id": "26a3ce08-4274-481d-9ddc-a9cc84646527",
   "metadata": {},
   "outputs": [
    {
     "data": {
      "text/plain": [
       "(56, 1, 2, 5)"
      ]
     },
     "execution_count": 80,
     "metadata": {},
     "output_type": "execute_result"
    }
   ],
   "source": [
    "test14(2,5,a = 56)"
   ]
  },
  {
   "cell_type": "code",
   "execution_count": 83,
   "id": "bed4bd03-86b4-40c4-b85d-a8300c32f5c5",
   "metadata": {},
   "outputs": [
    {
     "data": {
      "text/plain": [
       "{}"
      ]
     },
     "execution_count": 83,
     "metadata": {},
     "output_type": "execute_result"
    }
   ],
   "source": [
    "# this is for dict\n",
    "\n",
    "def test15(**rajib) :\n",
    "    return rajib\n",
    "test15()"
   ]
  },
  {
   "cell_type": "code",
   "execution_count": 84,
   "id": "d230a5eb-1aa9-41df-8137-67e8e38e5b49",
   "metadata": {},
   "outputs": [
    {
     "data": {
      "text/plain": [
       "dict"
      ]
     },
     "execution_count": 84,
     "metadata": {},
     "output_type": "execute_result"
    }
   ],
   "source": [
    "type(test15())"
   ]
  },
  {
   "cell_type": "code",
   "execution_count": 85,
   "id": "cfebd1d8-526c-4af8-8087-12ee8f431958",
   "metadata": {},
   "outputs": [
    {
     "data": {
      "text/plain": [
       "{'a': [1, 2, 3, 4], 'b': 'rajib', 'c': 54.23}"
      ]
     },
     "execution_count": 85,
     "metadata": {},
     "output_type": "execute_result"
    }
   ],
   "source": [
    "test15(a = [1,2,3,4], b = 'rajib', c = 54.23)"
   ]
  },
  {
   "cell_type": "code",
   "execution_count": null,
   "id": "332001d3-7288-4634-8e91-593506c68bc1",
   "metadata": {},
   "outputs": [],
   "source": []
  }
 ],
 "metadata": {
  "kernelspec": {
   "display_name": "Python 3 (ipykernel)",
   "language": "python",
   "name": "python3"
  },
  "language_info": {
   "codemirror_mode": {
    "name": "ipython",
    "version": 3
   },
   "file_extension": ".py",
   "mimetype": "text/x-python",
   "name": "python",
   "nbconvert_exporter": "python",
   "pygments_lexer": "ipython3",
   "version": "3.10.8"
  }
 },
 "nbformat": 4,
 "nbformat_minor": 5
}
